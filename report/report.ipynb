{
 "cells": [
  {
   "cell_type": "markdown",
   "metadata": {},
   "source": [
    "<h1>Report for Mandatory 1</h1>"
   ]
  },
  {
   "cell_type": "markdown",
   "metadata": {},
   "source": [
    "<h3>Dirichlet problem -dispersion coeff ω </h3>"
   ]
  },
  {
   "cell_type": "markdown",
   "metadata": {},
   "source": [
    "We know $$u(t,x,y) = \\sin(k_xx)\\sin(k_yy)\\cos(ω t)$$\n",
    "and $$\\frac{∂^2u }{∂ t^2} = c^2 ∇ ^2  u$$"
   ]
  },
  {
   "cell_type": "markdown",
   "metadata": {},
   "source": [
    "Which gives us:\n",
    "$$-ω ^2 (\\sin(k_xx)\\sin(x_yy)\\cos(ω t))$$ \n",
    "$$ = c^2(-k_x^2 \\sin(k_xx)\\sin(x_yy)\\cos(ω t) - k_y ^2 \\sin(k_xx)\\sin(x_yy)\\cos(ω t))$$\n",
    "$$ω ^2 = c^2(k_x^2 + k_y^2) ⇒ ω = c \\sqrt{k_x^2+k_y^2}$$"
   ]
  },
  {
   "cell_type": "markdown",
   "metadata": {},
   "source": [
    "<h3>Exact solution</h3>"
   ]
  },
  {
   "cell_type": "markdown",
   "metadata": {},
   "source": [
    "We need to find the relation between ω and $k_x$ and $k_y$, with the exact solutuion:  \n",
    "$$u(x,y,t) = e^{i(k_xx+k_yy+ω t)}$$\n"
   ]
  },
  {
   "cell_type": "markdown",
   "metadata": {},
   "source": [
    "$$\\frac{\\partial^2 u}{∂ ^2 t} = c^2 ∇^2u$$\n",
    "$$\\frac{\\partial^2 u}{∂ ^2 t} = c^2\\left(\\frac{\\partial^2 u}{∂ ^2 x} + \\frac{\\partial^2 u}{∂ ^2 y} \\right)$$"
   ]
  },
  {
   "cell_type": "markdown",
   "metadata": {},
   "source": [
    "$$\\frac{∂ ^2 u}{∂^2 x} = -k_x^2e^{i(k_xx+k_yy+ω t)}$$\n",
    "$$\\frac{∂ ^2 u}{∂^2 y} = -k_y^2e^{i(k_xx+k_yy+ω t)}$$"
   ]
  },
  {
   "cell_type": "markdown",
   "metadata": {},
   "source": [
    "And now we can see we get the same relation for wave dispersion:\n",
    "$$ω = c\\sqrt{k_x^2 + k_y^2}$$\n"
   ]
  },
  {
   "cell_type": "markdown",
   "metadata": {},
   "source": [
    "<h3>Dispersion coeff</h3>"
   ]
  },
  {
   "cell_type": "markdown",
   "metadata": {},
   "source": [
    "Assume $m_x = m_y$ such that $k_x =k_y = k$. A descrete version of the exact solution will then be:\n",
    "$$u_{ij}^n = e^{i(kh(i+j) -\\tilde{ω }nΔ t)}$$"
   ]
  },
  {
   "cell_type": "markdown",
   "metadata": {},
   "source": [
    "Eq(1.3) from the assignment: \n",
    "$$\\frac{u_{ij}^{n+1} - 2u_{ij}^{n} + u_{ij}^{n-1} }{Δ t^2} =c^2\\left(\\frac{u_{i+1,j}^n -2u_{i,j}^n + u_{i-1,j}^n  }{h^2}  + \\frac{u_{i,j+1}^n -2u_{i,j}^n + u_{i,j-1}^n  }{h^2}\\right)$$"
   ]
  },
  {
   "cell_type": "markdown",
   "metadata": {},
   "source": [
    "Pluggin into the lefthand side:\n",
    "$$\\frac{u_{ij}^{n+1} - 2u_{ij}^{n} + u_{ij}^{n-1} }{Δ t^2} = \\frac{e^{ikh(i+j)}}{Δ t^2} × \\left(e^{-i\\tilde{ω}(n+1)Δ t } -2e^{-i\\tilde{ω}nΔ t } + e^{-i\\tilde{ω}(n-1)Δ t }    \\right)$$\n",
    "$$= \\frac{e^{i(kh(i+j) - \\tilde{ω }nΔ t)}}{Δ t^2} × \\left(e^{-i\\tilde{ω}Δ t } -2 + e^{i\\tilde{ω}Δ t }    \\right)$$"
   ]
  },
  {
   "cell_type": "markdown",
   "metadata": {},
   "source": [
    "Lets do the same with the right hand side. We start with one term first:\n",
    "$$\\frac{u_{i+1,j}^n -2u_{i,j}^n + u_{i-1,j}^n  }{h^2} = \\frac{e^{-i\\tilde{ω }nΔ t}}{h^2} × \\left(e^{ikh(i+1+j)} -2e^{ikh(i+j)} + e^{ikh(i-1+j)}    \\right)$$\n",
    "$$=  \\frac{e^{i(kh(i+j) - \\tilde{ω }nΔ t  )}}{h^2} × \\left(e^{ikh} -2 + e^{-ikh}    \\right)$$\n",
    "We can see that the same result will go for the second term"
   ]
  },
  {
   "cell_type": "markdown",
   "metadata": {},
   "source": [
    "Now we can put everything together:\n",
    "$$\\frac{e^{i(kh(i+j) - \\tilde{ω }nΔ t)}}{Δ t^2} × \\left(e^{-i\\tilde{ω}Δ t } -2 + e^{i\\tilde{ω}Δ t }    \\right) $$ \n",
    "$$=   c^2\\frac{e^{-i(\\tilde{ω }nΔ t -kh(i+j) )}}{h^2} × \\left(e^{ikh} -2 + e^{-ikh}  +e^{ikh} -2 + e^{-ikh}   \\right)$$\n",
    "Which becomes\n",
    "$$\\frac{e^{-i\\tilde{ω }Δ t} -2 + e^{i\\tilde{ω }Δ t}}{Δ t^2 } = 2c^2 \\left(\\frac{e^{ikh} -2 +e^{-ikh}  }{h^2}   \\right)$$"
   ]
  },
  {
   "cell_type": "markdown",
   "metadata": {},
   "source": [
    "Introducing the CFL number $C= \\frac{cΔ t}{h} = 1/\\sqrt{2}$"
   ]
  },
  {
   "cell_type": "markdown",
   "metadata": {},
   "source": [
    "$$e^{-i\\tilde{ω }Δ t} -2 + e^{i\\tilde{\\omega}Δ t} = 2C \\left(e^{ikh} -2 + e^{-ikh} \\right)$$\n",
    "$$2\\cos(\\tilde{ω }Δ t) -2 = 2C^2 (2\\cos(kh) -2 )$$\n",
    "$$\\cos(\\tilde{ω }Δ t) = 1+2C^2\\cos(kh) -2C^2$$\n",
    "$$\\cos(\\tilde{ω }Δ t) = \\cos(kh)$$\n"
   ]
  },
  {
   "cell_type": "markdown",
   "metadata": {},
   "source": [
    "From this we get:\n",
    "$$\\tilde{ω } = \\frac{kh}{Δ t}$$\n",
    "From the CFL number, we know that $$C=\\frac{cΔ t}{h} = \\frac{1}{\\sqrt{2}}$$\n",
    "Which in turn gives us: $h = \\sqrt{2}cΔt$ \n",
    "$$\\tilde{ω } = \\frac{kh}{Δ t} = \\frac{k\\sqrt{2}cΔt}{Δ t} = \\sqrt{2}kc = ω  $$\n"
   ]
  }
 ],
 "metadata": {
  "language_info": {
   "name": "python"
  }
 },
 "nbformat": 4,
 "nbformat_minor": 2
}
